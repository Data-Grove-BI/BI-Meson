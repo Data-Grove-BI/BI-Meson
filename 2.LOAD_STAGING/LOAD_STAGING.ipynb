{
 "cells": [
  {
   "cell_type": "code",
   "execution_count": 5,
   "metadata": {},
   "outputs": [],
   "source": [
    "import pandas as pd\n",
    "import os"
   ]
  },
  {
   "cell_type": "code",
   "execution_count": 6,
   "metadata": {},
   "outputs": [],
   "source": [
    "path = 'C:/Users/Diego/Documents/GitHub/BI-Meson/2.LOAD_STAGING/input'\n",
    "archivos_filtrados = [ path + '/' + archivo for archivo in os.listdir(path) if ('HLITICKET' in archivo or 'cierres' in archivo or 'htickets' in archivo)]\n",
    "#print(archivos_filtrados)"
   ]
  },
  {
   "cell_type": "code",
   "execution_count": 7,
   "metadata": {},
   "outputs": [],
   "source": [
    "# Lista de archivos con sus respectivos nombres de columnas\n",
    "archivos_y_columnas = {\n",
    "    'cierres': ['FECHA','HORA', 'EFECTIVO','SALDO','year_file'],\n",
    "    'HLITICKET': ['NUMTIC','NUMCAJ','CODIGO','DESCRI','CANTIDAD','PRECIO','year_file'],\n",
    "    'htickets': ['NUMCAJ','FECHA','year_file'] \n",
    "}\n",
    " \n",
    "for data_path in archivos_filtrados:\n",
    "    # Leer los archivos y seleccionar las columnas especificadas\n",
    "    for archivo, columnas in archivos_y_columnas.items():\n",
    "        if archivo in data_path:\n",
    "            # Leer el archivo con Pandas y seleccionar solo las columnas necesarias\n",
    "            df = pd.read_csv(data_path, encoding='UTF-8', usecols=columnas)\n",
    "            df.to_csv(archivo)"
   ]
  },
  {
   "cell_type": "code",
   "execution_count": null,
   "metadata": {},
   "outputs": [],
   "source": []
  }
 ],
 "metadata": {
  "kernelspec": {
   "display_name": "Python 3",
   "language": "python",
   "name": "python3"
  },
  "language_info": {
   "codemirror_mode": {
    "name": "ipython",
    "version": 3
   },
   "file_extension": ".py",
   "mimetype": "text/x-python",
   "name": "python",
   "nbconvert_exporter": "python",
   "pygments_lexer": "ipython3",
   "version": "3.12.0"
  }
 },
 "nbformat": 4,
 "nbformat_minor": 2
}
