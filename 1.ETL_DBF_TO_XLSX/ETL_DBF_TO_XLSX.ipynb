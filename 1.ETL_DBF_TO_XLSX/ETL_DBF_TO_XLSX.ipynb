{
 "cells": [
  {
   "cell_type": "code",
   "execution_count": 4,
   "metadata": {},
   "outputs": [],
   "source": [
    "import os\n",
    "import pandas as pd\n",
    "from dbfread import DBF"
   ]
  },
  {
   "cell_type": "code",
   "execution_count": 8,
   "metadata": {},
   "outputs": [],
   "source": [
    "def convertir_dbf_a_xlsx(archivo_dbf, archivo_xlsx,carpeta_xlsx,year):\n",
    "    try: \n",
    "        file_name =  archivo_xlsx.split('.xlsx')[0] + '_' + year + '.xlsx'\n",
    "        \n",
    "        # Lee el archivo DBF usando dbfread\n",
    "        tabla_dbf = DBF(archivo_dbf, load=True)\n",
    "\n",
    "        # Convierte la tabla DBF a un DataFrame de pandas\n",
    "        df = pd.DataFrame(iter(tabla_dbf))\n",
    "        df['year_file'] = year\n",
    " \n",
    "        # Guarda el DataFrame en un archivo XLSX\n",
    "        #df.to_excel(archivo_xlsx, index=False)\n",
    "        df.to_excel(file_name, index=False)\n",
    "\n",
    "    except Exception as e:\n",
    "        # Imprime el mensaje de error específico\n",
    "        print(f'Error al convertir {archivo_dbf} a XLSX: {e}') "
   ]
  },
  {
   "cell_type": "code",
   "execution_count": 9,
   "metadata": {},
   "outputs": [],
   "source": [
    "def convertir_dbf_en_carpeta_a_xlsx(carpeta_dbf, carpeta_xlsx,year):\n",
    "    # Asegúrate de que la carpeta de salida exista, si no, créala\n",
    "    if not os.path.exists(carpeta_xlsx):\n",
    "        os.makedirs(carpeta_xlsx)\n",
    "\n",
    "    # Itera sobre los archivos DBF en la carpeta de entrada\n",
    "    files =['articulo.dbf','cierres.dbf','HLITICKET.DBF','htickets.dbf']\n",
    "    #for archivo_dbf in os.listdir(carpeta_dbf): #files: #\n",
    "    for archivo_dbf in files:\n",
    "        if archivo_dbf.endswith(\".dbf\") | archivo_dbf.endswith(\".DBF\") :\n",
    "            # Construye las rutas de entrada y salida\n",
    "            ruta_dbf = os.path.join(carpeta_dbf, archivo_dbf)\n",
    "            archivo_xlsx = os.path.join(carpeta_xlsx, os.path.splitext(archivo_dbf)[0] + \".xlsx\")\n",
    "            \n",
    "            # Convierte el archivo DBF actual a XLSX\n",
    "            try: \n",
    "                convertir_dbf_a_xlsx(ruta_dbf, archivo_xlsx,carpeta_xlsx,year)\n",
    "                #print(f'convercion {archivo_dbf} a XLSX')\n",
    "            except Exception as e:\n",
    "                # Imprime el mensaje de error específico\n",
    "                #print(f'Error al convertir {archivo_dbf} a XLSX: {e}')\n",
    "                print(\"\")\n",
    "                print(\"\")"
   ]
  },
  {
   "cell_type": "code",
   "execution_count": 10,
   "metadata": {},
   "outputs": [],
   "source": [
    "carpeta_dbf = \"C:/Users/Diego/Desktop/ANALIZAR/BI-MESON/all_raw\"\n",
    "carpeta_xlsx = \"C:/Users/Diego/Desktop/ANALIZAR/BI-MESON/raw_xlsx/\"  \n",
    "\n",
    "carpeta_dbf_directories = [d for d in os.listdir(carpeta_dbf) if os.path.isdir(os.path.join(carpeta_dbf, d))]\n",
    "\n",
    "for year in carpeta_dbf_directories:  \n",
    "    carpeta_dbf_aux = carpeta_dbf +'/'+year\n",
    "    #print(carpeta_dbf)\n",
    "    convertir_dbf_en_carpeta_a_xlsx(carpeta_dbf_aux, carpeta_xlsx,year)"
   ]
  },
  {
   "cell_type": "code",
   "execution_count": null,
   "metadata": {},
   "outputs": [],
   "source": []
  }
 ],
 "metadata": {
  "kernelspec": {
   "display_name": "Python 3",
   "language": "python",
   "name": "python3"
  },
  "language_info": {
   "codemirror_mode": {
    "name": "ipython",
    "version": 3
   },
   "file_extension": ".py",
   "mimetype": "text/x-python",
   "name": "python",
   "nbconvert_exporter": "python",
   "pygments_lexer": "ipython3",
   "version": "3.12.0"
  }
 },
 "nbformat": 4,
 "nbformat_minor": 2
}
